{
 "cells": [
  {
   "cell_type": "code",
   "execution_count": 1,
   "id": "d2fd91a7-a96e-4871-bff9-e4e21d540c5c",
   "metadata": {},
   "outputs": [],
   "source": [
    "from functions_goodreads import *\n",
    "import requests\n",
    "from bs4 import BeautifulSoup\n",
    "import re\n",
    "from urllib.parse import urljoin"
   ]
  },
  {
   "cell_type": "code",
   "execution_count": 2,
   "id": "3f7f562f-6a2d-4cb4-a544-dea9799fb1ec",
   "metadata": {},
   "outputs": [],
   "source": [
    "url = \"https://www.goodreads.com/author/show/20013214.Jack_Edwards\"\n",
    "url2 = \"https://www.goodreads.com/user/show/9850676-landice-manic-femme\""
   ]
  },
  {
   "cell_type": "code",
   "execution_count": 7,
   "id": "c82f4cf7-3087-45ab-a20a-1d30fc1fbf7d",
   "metadata": {},
   "outputs": [
    {
     "name": "stdout",
     "output_type": "stream",
     "text": [
      "https://goodreads.com/review/list/9850676\n"
     ]
    }
   ],
   "source": [
    "url_base = get_url_base(url2)\n",
    "print(url_base)"
   ]
  },
  {
   "cell_type": "code",
   "execution_count": 13,
   "id": "5d3dd324-a584-4272-8850-5d4d650c3337",
   "metadata": {},
   "outputs": [
    {
     "name": "stdout",
     "output_type": "stream",
     "text": [
      "https://goodreads.com/review/list/9850676?shelf=read https://goodreads.com/review/list/9850676?shelf=currently-reading https://goodreads.com/review/list/9850676?shelf=to-read\n"
     ]
    }
   ],
   "source": [
    "read = get_read(url_base)\n",
    "currently_reading = get_currently_reading(url_base)\n",
    "want_to_read = get_want_to_read(url_base)\n",
    "print(read, currently_reading, want_to_read)"
   ]
  },
  {
   "cell_type": "code",
   "execution_count": null,
   "id": "8de5482f-9eef-4e0f-9197-cc0db65d714b",
   "metadata": {},
   "outputs": [],
   "source": []
  }
 ],
 "metadata": {
  "kernelspec": {
   "display_name": "env",
   "language": "python",
   "name": "env"
  },
  "language_info": {
   "codemirror_mode": {
    "name": "ipython",
    "version": 3
   },
   "file_extension": ".py",
   "mimetype": "text/x-python",
   "name": "python",
   "nbconvert_exporter": "python",
   "pygments_lexer": "ipython3",
   "version": "3.8.10"
  }
 },
 "nbformat": 4,
 "nbformat_minor": 5
}
